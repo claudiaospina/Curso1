{
  "nbformat": 4,
  "nbformat_minor": 0,
  "metadata": {
    "colab": {
      "name": "Ejercicios Iniciales",
      "provenance": [],
      "collapsed_sections": [],
      "authorship_tag": "ABX9TyOirQU3BDuOixzLk4QOcDZ1",
      "include_colab_link": true
    },
    "kernelspec": {
      "name": "python3",
      "display_name": "Python 3"
    }
  },
  "cells": [
    {
      "cell_type": "markdown",
      "metadata": {
        "id": "view-in-github",
        "colab_type": "text"
      },
      "source": [
        "<a href=\"https://colab.research.google.com/github/claudiaospina/Curso1/blob/master/Ejercicios_Iniciales.ipynb\" target=\"_parent\"><img src=\"https://colab.research.google.com/assets/colab-badge.svg\" alt=\"Open In Colab\"/></a>"
      ]
    },
    {
      "cell_type": "markdown",
      "metadata": {
        "id": "vIAUqGWWGzpx",
        "colab_type": "text"
      },
      "source": [
        "#Ejercicios\n",
        "\n",
        "1) Imprimir “Hola mundo” por pantalla.\n",
        "\n"
      ]
    },
    {
      "cell_type": "code",
      "metadata": {
        "id": "RD6XwrSgHFWx",
        "colab_type": "code",
        "colab": {
          "base_uri": "https://localhost:8080/",
          "height": 34
        },
        "outputId": "6dda147e-e7af-44d3-bae8-72d6f333386a"
      },
      "source": [
        "print(\"Hola Mundo\")"
      ],
      "execution_count": 1,
      "outputs": [
        {
          "output_type": "stream",
          "text": [
            "Hola Mundo\n"
          ],
          "name": "stdout"
        }
      ]
    },
    {
      "cell_type": "markdown",
      "metadata": {
        "id": "oW5a6fUIHYKh",
        "colab_type": "text"
      },
      "source": [
        "2) Crear dos variables numéricas, sumarlas y mostrar el resultado"
      ]
    },
    {
      "cell_type": "code",
      "metadata": {
        "id": "NqssszY_HZ7n",
        "colab_type": "code",
        "colab": {
          "base_uri": "https://localhost:8080/",
          "height": 34
        },
        "outputId": "687f6acc-c9be-48ee-e3f8-3a1643811234"
      },
      "source": [
        "v1=12\n",
        "v2=2\n",
        "suma=v1+v2\n",
        "print(\"La suma de\",v1, \"y\", v2, \"es\", suma)"
      ],
      "execution_count": 4,
      "outputs": [
        {
          "output_type": "stream",
          "text": [
            "La suma de 12 y 2 es 14\n"
          ],
          "name": "stdout"
        }
      ]
    },
    {
      "cell_type": "markdown",
      "metadata": {
        "id": "Jitf8uCGILu2",
        "colab_type": "text"
      },
      "source": [
        "3) Mostrar el precio del IVA de un producto con un valor de 100 y su precio final."
      ]
    },
    {
      "cell_type": "code",
      "metadata": {
        "id": "_WsCBtuiIQ0J",
        "colab_type": "code",
        "colab": {
          "base_uri": "https://localhost:8080/",
          "height": 34
        },
        "outputId": "cc3286e7-bf6f-4a64-a7b1-07a858df61d2"
      },
      "source": [
        "precio_sin_iva=100\n",
        "iva=0.16\n",
        "precio_final=precio_sin_iva*iva+precio_sin_iva\n",
        "print(\"El precio final del producto es\",precio_final,\"pesos\")"
      ],
      "execution_count": 7,
      "outputs": [
        {
          "output_type": "stream",
          "text": [
            "El precio final del producto es 116.0 pesos\n"
          ],
          "name": "stdout"
        }
      ]
    },
    {
      "cell_type": "markdown",
      "metadata": {
        "id": "jUYzjtpKJDoN",
        "colab_type": "text"
      },
      "source": [
        "4) De dos números, saber cual es el mayor."
      ]
    },
    {
      "cell_type": "code",
      "metadata": {
        "id": "-bvdDJU1JGtz",
        "colab_type": "code",
        "colab": {
          "base_uri": "https://localhost:8080/",
          "height": 67
        },
        "outputId": "6a626512-2794-4c77-9640-36676750880b"
      },
      "source": [
        "numero1=input('Ingresa el primer número: ')\n",
        "numero2=input(\"Ingresa el segundo número: \")\n",
        "if numero1>numero2:\n",
        " print(numero1,\"es mayor que\", numero2)\n",
        "else:\n",
        " print(numero1,\"es menor que\", numero2)\n",
        "\n",
        "  "
      ],
      "execution_count": 24,
      "outputs": [
        {
          "output_type": "stream",
          "text": [
            "Ingresa el primer número: 5\n",
            "Ingresa el segundo número: 8\n",
            "5 es menor que 8\n"
          ],
          "name": "stdout"
        }
      ]
    },
    {
      "cell_type": "markdown",
      "metadata": {
        "id": "Rl9MMTDCNY1r",
        "colab_type": "text"
      },
      "source": [
        "5) Crea una variable numérica y si esta entre 0 y 10, mostrar un mensaje indicándolo."
      ]
    },
    {
      "cell_type": "code",
      "metadata": {
        "id": "DtBtQXKINdnL",
        "colab_type": "code",
        "colab": {
          "base_uri": "https://localhost:8080/",
          "height": 34
        },
        "outputId": "8c136f57-9e4a-4223-e2f4-b2297e08b38a"
      },
      "source": [
        "variable_numerica=458\n",
        "if (variable_numerica >= 0 and variable_numerica <= 10):\n",
        "  print(\"Tu número está entre 0 y 10\")\n",
        "else:\n",
        "  print(\"Tu número no está entre 0 y 10\")\n",
        "#No me permitió hacerlo con input, la variable se consideraba str"
      ],
      "execution_count": 52,
      "outputs": [
        {
          "output_type": "stream",
          "text": [
            "Tu número no está entre 0 y 10\n"
          ],
          "name": "stdout"
        }
      ]
    },
    {
      "cell_type": "markdown",
      "metadata": {
        "id": "Mq8P5pMLSX-T",
        "colab_type": "text"
      },
      "source": [
        "6) Añadir al anterior ejercicio, que si esta entre 11 y 20, muestre otro mensaje diferente y si esta entre 21 y 30 otro mensaje."
      ]
    },
    {
      "cell_type": "markdown",
      "metadata": {
        "id": "ATK99VKlG5VZ",
        "colab_type": "text"
      },
      "source": [
        ""
      ]
    },
    {
      "cell_type": "code",
      "metadata": {
        "id": "s1Zp7FqiSesr",
        "colab_type": "code",
        "colab": {
          "base_uri": "https://localhost:8080/",
          "height": 34
        },
        "outputId": "77137769-d840-4b74-9871-b4f780666537"
      },
      "source": [
        "variable_numerica=20\n",
        "if (variable_numerica >= 0 and variable_numerica <= 10):\n",
        "  print(\"Tu número está entre 0 y 10\")\n",
        "elif (variable_numerica >= 11 and variable_numerica <= 20):\n",
        "  print(\"Tu número está entre 11 y 20\")\n",
        "elif (variable_numerica >= 21 and variable_numerica <= 30):\n",
        "  print(\"Tu número está entre 21 y 30\")\n",
        "else:\n",
        "  print(\"Tu número no está en los rangos definidos\")"
      ],
      "execution_count": 53,
      "outputs": [
        {
          "output_type": "stream",
          "text": [
            "Tu número está entre 11 y 20\n"
          ],
          "name": "stdout"
        }
      ]
    },
    {
      "cell_type": "markdown",
      "metadata": {
        "id": "kAXbQiJAUMDK",
        "colab_type": "text"
      },
      "source": [
        "7) Mostrar con un while los números del 1 al 100."
      ]
    },
    {
      "cell_type": "code",
      "metadata": {
        "id": "xrAFsWixUdyR",
        "colab_type": "code",
        "colab": {
          "base_uri": "https://localhost:8080/",
          "height": 1000
        },
        "outputId": "f923b295-9fbd-4fd4-81a4-87594109e0f9"
      },
      "source": [
        "i=0\n",
        "while i<=100:\n",
        "  print(i)\n",
        "  i+=1"
      ],
      "execution_count": 70,
      "outputs": [
        {
          "output_type": "stream",
          "text": [
            "0\n",
            "1\n",
            "2\n",
            "3\n",
            "4\n",
            "5\n",
            "6\n",
            "7\n",
            "8\n",
            "9\n",
            "10\n",
            "11\n",
            "12\n",
            "13\n",
            "14\n",
            "15\n",
            "16\n",
            "17\n",
            "18\n",
            "19\n",
            "20\n",
            "21\n",
            "22\n",
            "23\n",
            "24\n",
            "25\n",
            "26\n",
            "27\n",
            "28\n",
            "29\n",
            "30\n",
            "31\n",
            "32\n",
            "33\n",
            "34\n",
            "35\n",
            "36\n",
            "37\n",
            "38\n",
            "39\n",
            "40\n",
            "41\n",
            "42\n",
            "43\n",
            "44\n",
            "45\n",
            "46\n",
            "47\n",
            "48\n",
            "49\n",
            "50\n",
            "51\n",
            "52\n",
            "53\n",
            "54\n",
            "55\n",
            "56\n",
            "57\n",
            "58\n",
            "59\n",
            "60\n",
            "61\n",
            "62\n",
            "63\n",
            "64\n",
            "65\n",
            "66\n",
            "67\n",
            "68\n",
            "69\n",
            "70\n",
            "71\n",
            "72\n",
            "73\n",
            "74\n",
            "75\n",
            "76\n",
            "77\n",
            "78\n",
            "79\n",
            "80\n",
            "81\n",
            "82\n",
            "83\n",
            "84\n",
            "85\n",
            "86\n",
            "87\n",
            "88\n",
            "89\n",
            "90\n",
            "91\n",
            "92\n",
            "93\n",
            "94\n",
            "95\n",
            "96\n",
            "97\n",
            "98\n",
            "99\n",
            "100\n"
          ],
          "name": "stdout"
        }
      ]
    },
    {
      "cell_type": "markdown",
      "metadata": {
        "id": "Q4QXy-XgYvFq",
        "colab_type": "text"
      },
      "source": [
        "8) Mostrar con un for los números del 1 al 100."
      ]
    },
    {
      "cell_type": "code",
      "metadata": {
        "id": "WZNqBQqGYzeE",
        "colab_type": "code",
        "colab": {
          "base_uri": "https://localhost:8080/",
          "height": 1000
        },
        "outputId": "4757bcae-83d8-4205-ab6c-b30600a07b8c"
      },
      "source": [
        "i=1\n",
        "for i in range(101):\n",
        "  print(i)"
      ],
      "execution_count": 74,
      "outputs": [
        {
          "output_type": "stream",
          "text": [
            "0\n",
            "1\n",
            "2\n",
            "3\n",
            "4\n",
            "5\n",
            "6\n",
            "7\n",
            "8\n",
            "9\n",
            "10\n",
            "11\n",
            "12\n",
            "13\n",
            "14\n",
            "15\n",
            "16\n",
            "17\n",
            "18\n",
            "19\n",
            "20\n",
            "21\n",
            "22\n",
            "23\n",
            "24\n",
            "25\n",
            "26\n",
            "27\n",
            "28\n",
            "29\n",
            "30\n",
            "31\n",
            "32\n",
            "33\n",
            "34\n",
            "35\n",
            "36\n",
            "37\n",
            "38\n",
            "39\n",
            "40\n",
            "41\n",
            "42\n",
            "43\n",
            "44\n",
            "45\n",
            "46\n",
            "47\n",
            "48\n",
            "49\n",
            "50\n",
            "51\n",
            "52\n",
            "53\n",
            "54\n",
            "55\n",
            "56\n",
            "57\n",
            "58\n",
            "59\n",
            "60\n",
            "61\n",
            "62\n",
            "63\n",
            "64\n",
            "65\n",
            "66\n",
            "67\n",
            "68\n",
            "69\n",
            "70\n",
            "71\n",
            "72\n",
            "73\n",
            "74\n",
            "75\n",
            "76\n",
            "77\n",
            "78\n",
            "79\n",
            "80\n",
            "81\n",
            "82\n",
            "83\n",
            "84\n",
            "85\n",
            "86\n",
            "87\n",
            "88\n",
            "89\n",
            "90\n",
            "91\n",
            "92\n",
            "93\n",
            "94\n",
            "95\n",
            "96\n",
            "97\n",
            "98\n",
            "99\n",
            "100\n"
          ],
          "name": "stdout"
        }
      ]
    },
    {
      "cell_type": "markdown",
      "metadata": {
        "id": "Q2yWX6LKZpPb",
        "colab_type": "text"
      },
      "source": [
        "9) Mostrar los caracteres de la cadena “Hola mundo”."
      ]
    },
    {
      "cell_type": "code",
      "metadata": {
        "id": "uNqznVjgZvb9",
        "colab_type": "code",
        "colab": {
          "base_uri": "https://localhost:8080/",
          "height": 185
        },
        "outputId": "63f1e0c0-c866-455c-9899-c3241e34134b"
      },
      "source": [
        "for caracter in \"Hola Mundo\":\n",
        "  print(caracter)"
      ],
      "execution_count": 80,
      "outputs": [
        {
          "output_type": "stream",
          "text": [
            "H\n",
            "o\n",
            "l\n",
            "a\n",
            " \n",
            "M\n",
            "u\n",
            "n\n",
            "d\n",
            "o\n"
          ],
          "name": "stdout"
        }
      ]
    },
    {
      "cell_type": "markdown",
      "metadata": {
        "id": "LKTVV02obl5B",
        "colab_type": "text"
      },
      "source": [
        "10) Mostrar los números pares entre 1 al 100."
      ]
    },
    {
      "cell_type": "code",
      "metadata": {
        "id": "712vFXXzbm9m",
        "colab_type": "code",
        "colab": {
          "base_uri": "https://localhost:8080/",
          "height": 874
        },
        "outputId": "d750e2ea-63c0-4174-f73b-5c2e47b0b21e"
      },
      "source": [
        "#Opción 1\n",
        "for numero in range(0,101,2):\n",
        "  print(numero)"
      ],
      "execution_count": 83,
      "outputs": [
        {
          "output_type": "stream",
          "text": [
            "0\n",
            "2\n",
            "4\n",
            "6\n",
            "8\n",
            "10\n",
            "12\n",
            "14\n",
            "16\n",
            "18\n",
            "20\n",
            "22\n",
            "24\n",
            "26\n",
            "28\n",
            "30\n",
            "32\n",
            "34\n",
            "36\n",
            "38\n",
            "40\n",
            "42\n",
            "44\n",
            "46\n",
            "48\n",
            "50\n",
            "52\n",
            "54\n",
            "56\n",
            "58\n",
            "60\n",
            "62\n",
            "64\n",
            "66\n",
            "68\n",
            "70\n",
            "72\n",
            "74\n",
            "76\n",
            "78\n",
            "80\n",
            "82\n",
            "84\n",
            "86\n",
            "88\n",
            "90\n",
            "92\n",
            "94\n",
            "96\n",
            "98\n",
            "100\n"
          ],
          "name": "stdout"
        }
      ]
    },
    {
      "cell_type": "code",
      "metadata": {
        "id": "7MpRhaijc2f2",
        "colab_type": "code",
        "colab": {
          "base_uri": "https://localhost:8080/",
          "height": 874
        },
        "outputId": "0bad542a-cfb4-4d59-ca21-953a66d9cbed"
      },
      "source": [
        "#Opción 2: garantiza que es par por la operación del módulo\n",
        "for numero in range(0,101):\n",
        "  if numero%2==0:\n",
        "    print(numero)"
      ],
      "execution_count": 85,
      "outputs": [
        {
          "output_type": "stream",
          "text": [
            "0\n",
            "2\n",
            "4\n",
            "6\n",
            "8\n",
            "10\n",
            "12\n",
            "14\n",
            "16\n",
            "18\n",
            "20\n",
            "22\n",
            "24\n",
            "26\n",
            "28\n",
            "30\n",
            "32\n",
            "34\n",
            "36\n",
            "38\n",
            "40\n",
            "42\n",
            "44\n",
            "46\n",
            "48\n",
            "50\n",
            "52\n",
            "54\n",
            "56\n",
            "58\n",
            "60\n",
            "62\n",
            "64\n",
            "66\n",
            "68\n",
            "70\n",
            "72\n",
            "74\n",
            "76\n",
            "78\n",
            "80\n",
            "82\n",
            "84\n",
            "86\n",
            "88\n",
            "90\n",
            "92\n",
            "94\n",
            "96\n",
            "98\n",
            "100\n"
          ],
          "name": "stdout"
        }
      ]
    }
  ]
}