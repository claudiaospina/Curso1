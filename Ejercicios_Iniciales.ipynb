{
  "nbformat": 4,
  "nbformat_minor": 0,
  "metadata": {
    "colab": {
      "name": "Ejercicios Iniciales",
      "provenance": [],
      "authorship_tag": "ABX9TyMn71MAkH0uXJ073oMbVE/N",
      "include_colab_link": true
    },
    "kernelspec": {
      "name": "python3",
      "display_name": "Python 3"
    }
  },
  "cells": [
    {
      "cell_type": "markdown",
      "metadata": {
        "id": "view-in-github",
        "colab_type": "text"
      },
      "source": [
        "<a href=\"https://colab.research.google.com/github/claudiaospina/Curso1/blob/master/Ejercicios_Iniciales.ipynb\" target=\"_parent\"><img src=\"https://colab.research.google.com/assets/colab-badge.svg\" alt=\"Open In Colab\"/></a>"
      ]
    },
    {
      "cell_type": "markdown",
      "metadata": {
        "id": "vIAUqGWWGzpx",
        "colab_type": "text"
      },
      "source": [
        "#Ejercicios\n",
        "\n",
        "1) Imprimir “Hola mundo” por pantalla.\n",
        "\n"
      ]
    },
    {
      "cell_type": "code",
      "metadata": {
        "id": "RD6XwrSgHFWx",
        "colab_type": "code",
        "colab": {
          "base_uri": "https://localhost:8080/",
          "height": 34
        },
        "outputId": "6dda147e-e7af-44d3-bae8-72d6f333386a"
      },
      "source": [
        "print(\"Hola Mundo\")"
      ],
      "execution_count": 1,
      "outputs": [
        {
          "output_type": "stream",
          "text": [
            "Hola Mundo\n"
          ],
          "name": "stdout"
        }
      ]
    },
    {
      "cell_type": "markdown",
      "metadata": {
        "id": "oW5a6fUIHYKh",
        "colab_type": "text"
      },
      "source": [
        "2) Crear dos variables numéricas, sumarlas y mostrar el resultado"
      ]
    },
    {
      "cell_type": "code",
      "metadata": {
        "id": "NqssszY_HZ7n",
        "colab_type": "code",
        "colab": {
          "base_uri": "https://localhost:8080/",
          "height": 34
        },
        "outputId": "687f6acc-c9be-48ee-e3f8-3a1643811234"
      },
      "source": [
        "v1=12\n",
        "v2=2\n",
        "suma=v1+v2\n",
        "print(\"La suma de\",v1, \"y\", v2, \"es\", suma)"
      ],
      "execution_count": 4,
      "outputs": [
        {
          "output_type": "stream",
          "text": [
            "La suma de 12 y 2 es 14\n"
          ],
          "name": "stdout"
        }
      ]
    },
    {
      "cell_type": "markdown",
      "metadata": {
        "id": "Jitf8uCGILu2",
        "colab_type": "text"
      },
      "source": [
        "3) Mostrar el precio del IVA de un producto con un valor de 100 y su precio final."
      ]
    },
    {
      "cell_type": "code",
      "metadata": {
        "id": "_WsCBtuiIQ0J",
        "colab_type": "code",
        "colab": {
          "base_uri": "https://localhost:8080/",
          "height": 34
        },
        "outputId": "cc3286e7-bf6f-4a64-a7b1-07a858df61d2"
      },
      "source": [
        "precio_sin_iva=100\n",
        "iva=0.16\n",
        "precio_final=precio_sin_iva*iva+precio_sin_iva\n",
        "print(\"El precio final del producto es\",precio_final,\"pesos\")"
      ],
      "execution_count": 7,
      "outputs": [
        {
          "output_type": "stream",
          "text": [
            "El precio final del producto es 116.0 pesos\n"
          ],
          "name": "stdout"
        }
      ]
    },
    {
      "cell_type": "markdown",
      "metadata": {
        "id": "jUYzjtpKJDoN",
        "colab_type": "text"
      },
      "source": [
        "4) De dos números, saber cual es el mayor."
      ]
    },
    {
      "cell_type": "code",
      "metadata": {
        "id": "-bvdDJU1JGtz",
        "colab_type": "code",
        "colab": {
          "base_uri": "https://localhost:8080/",
          "height": 67
        },
        "outputId": "6a626512-2794-4c77-9640-36676750880b"
      },
      "source": [
        "numero1=input('Ingresa el primer número: ')\n",
        "numero2=input(\"Ingresa el segundo número: \")\n",
        "if numero1>numero2:\n",
        " print(numero1,\"es mayor que\", numero2)\n",
        "else:\n",
        " print(numero1,\"es menor que\", numero2)\n",
        "\n",
        "  "
      ],
      "execution_count": 24,
      "outputs": [
        {
          "output_type": "stream",
          "text": [
            "Ingresa el primer número: 5\n",
            "Ingresa el segundo número: 8\n",
            "5 es menor que 8\n"
          ],
          "name": "stdout"
        }
      ]
    },
    {
      "cell_type": "markdown",
      "metadata": {
        "id": "ATK99VKlG5VZ",
        "colab_type": "text"
      },
      "source": [
        ""
      ]
    }
  ]
}