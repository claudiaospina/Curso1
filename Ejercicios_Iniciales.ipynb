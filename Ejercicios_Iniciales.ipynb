{
  "nbformat": 4,
  "nbformat_minor": 0,
  "metadata": {
    "colab": {
      "name": "Ejercicios Iniciales",
      "provenance": [],
      "collapsed_sections": [],
      "authorship_tag": "ABX9TyOAp1gO4EYuWmcfdQh8ZjjO",
      "include_colab_link": true
    },
    "kernelspec": {
      "name": "python3",
      "display_name": "Python 3"
    }
  },
  "cells": [
    {
      "cell_type": "markdown",
      "metadata": {
        "id": "view-in-github",
        "colab_type": "text"
      },
      "source": [
        "<a href=\"https://colab.research.google.com/github/claudiaospina/Curso1/blob/master/Ejercicios_Iniciales.ipynb\" target=\"_parent\"><img src=\"https://colab.research.google.com/assets/colab-badge.svg\" alt=\"Open In Colab\"/></a>"
      ]
    },
    {
      "cell_type": "markdown",
      "metadata": {
        "id": "vIAUqGWWGzpx",
        "colab_type": "text"
      },
      "source": [
        "#Ejercicios\n",
        "## https://www.discoduroderoer.es/ejercicios-propuestos-y-resueltos-basicos-en-python/\n",
        "\n",
        "\n",
        "1) Imprimir “Hola mundo” por pantalla.\n",
        "\n"
      ]
    },
    {
      "cell_type": "code",
      "metadata": {
        "id": "RD6XwrSgHFWx",
        "colab_type": "code",
        "outputId": "6dda147e-e7af-44d3-bae8-72d6f333386a",
        "colab": {
          "base_uri": "https://localhost:8080/",
          "height": 34
        }
      },
      "source": [
        "print(\"Hola Mundo\")"
      ],
      "execution_count": 0,
      "outputs": [
        {
          "output_type": "stream",
          "text": [
            "Hola Mundo\n"
          ],
          "name": "stdout"
        }
      ]
    },
    {
      "cell_type": "markdown",
      "metadata": {
        "id": "oW5a6fUIHYKh",
        "colab_type": "text"
      },
      "source": [
        "2) Crear dos variables numéricas, sumarlas y mostrar el resultado"
      ]
    },
    {
      "cell_type": "code",
      "metadata": {
        "id": "NqssszY_HZ7n",
        "colab_type": "code",
        "outputId": "687f6acc-c9be-48ee-e3f8-3a1643811234",
        "colab": {
          "base_uri": "https://localhost:8080/",
          "height": 34
        }
      },
      "source": [
        "v1=12\n",
        "v2=2\n",
        "suma=v1+v2\n",
        "print(\"La suma de\",v1, \"y\", v2, \"es\", suma)"
      ],
      "execution_count": 0,
      "outputs": [
        {
          "output_type": "stream",
          "text": [
            "La suma de 12 y 2 es 14\n"
          ],
          "name": "stdout"
        }
      ]
    },
    {
      "cell_type": "markdown",
      "metadata": {
        "id": "Jitf8uCGILu2",
        "colab_type": "text"
      },
      "source": [
        "3) Mostrar el precio del IVA de un producto con un valor de 100 y su precio final."
      ]
    },
    {
      "cell_type": "code",
      "metadata": {
        "id": "_WsCBtuiIQ0J",
        "colab_type": "code",
        "outputId": "cc3286e7-bf6f-4a64-a7b1-07a858df61d2",
        "colab": {
          "base_uri": "https://localhost:8080/",
          "height": 34
        }
      },
      "source": [
        "precio_sin_iva=100\n",
        "iva=0.16\n",
        "precio_final=precio_sin_iva*iva+precio_sin_iva\n",
        "print(\"El precio final del producto es\",precio_final,\"pesos\")"
      ],
      "execution_count": 0,
      "outputs": [
        {
          "output_type": "stream",
          "text": [
            "El precio final del producto es 116.0 pesos\n"
          ],
          "name": "stdout"
        }
      ]
    },
    {
      "cell_type": "markdown",
      "metadata": {
        "id": "jUYzjtpKJDoN",
        "colab_type": "text"
      },
      "source": [
        "4) De dos números, saber cual es el mayor."
      ]
    },
    {
      "cell_type": "code",
      "metadata": {
        "id": "-bvdDJU1JGtz",
        "colab_type": "code",
        "outputId": "6a626512-2794-4c77-9640-36676750880b",
        "colab": {
          "base_uri": "https://localhost:8080/",
          "height": 67
        }
      },
      "source": [
        "numero1=input('Ingresa el primer número: ')\n",
        "numero2=input(\"Ingresa el segundo número: \")\n",
        "if numero1>numero2:\n",
        " print(numero1,\"es mayor que\", numero2)\n",
        "else:\n",
        " print(numero1,\"es menor que\", numero2)\n",
        "\n",
        "  "
      ],
      "execution_count": 0,
      "outputs": [
        {
          "output_type": "stream",
          "text": [
            "Ingresa el primer número: 5\n",
            "Ingresa el segundo número: 8\n",
            "5 es menor que 8\n"
          ],
          "name": "stdout"
        }
      ]
    },
    {
      "cell_type": "markdown",
      "metadata": {
        "id": "Rl9MMTDCNY1r",
        "colab_type": "text"
      },
      "source": [
        "5) Crea una variable numérica y si esta entre 0 y 10, mostrar un mensaje indicándolo."
      ]
    },
    {
      "cell_type": "code",
      "metadata": {
        "id": "DtBtQXKINdnL",
        "colab_type": "code",
        "outputId": "8c136f57-9e4a-4223-e2f4-b2297e08b38a",
        "colab": {
          "base_uri": "https://localhost:8080/",
          "height": 34
        }
      },
      "source": [
        "variable_numerica=458\n",
        "if (variable_numerica >= 0 and variable_numerica <= 10):\n",
        "  print(\"Tu número está entre 0 y 10\")\n",
        "else:\n",
        "  print(\"Tu número no está entre 0 y 10\")\n",
        "#No me permitió hacerlo con input, la variable se consideraba str"
      ],
      "execution_count": 0,
      "outputs": [
        {
          "output_type": "stream",
          "text": [
            "Tu número no está entre 0 y 10\n"
          ],
          "name": "stdout"
        }
      ]
    },
    {
      "cell_type": "markdown",
      "metadata": {
        "id": "Mq8P5pMLSX-T",
        "colab_type": "text"
      },
      "source": [
        "6) Añadir al anterior ejercicio, que si esta entre 11 y 20, muestre otro mensaje diferente y si esta entre 21 y 30 otro mensaje."
      ]
    },
    {
      "cell_type": "markdown",
      "metadata": {
        "id": "ATK99VKlG5VZ",
        "colab_type": "text"
      },
      "source": [
        ""
      ]
    },
    {
      "cell_type": "code",
      "metadata": {
        "id": "s1Zp7FqiSesr",
        "colab_type": "code",
        "outputId": "77137769-d840-4b74-9871-b4f780666537",
        "colab": {
          "base_uri": "https://localhost:8080/",
          "height": 34
        }
      },
      "source": [
        "variable_numerica=20\n",
        "if (variable_numerica >= 0 and variable_numerica <= 10):\n",
        "  print(\"Tu número está entre 0 y 10\")\n",
        "elif (variable_numerica >= 11 and variable_numerica <= 20):\n",
        "  print(\"Tu número está entre 11 y 20\")\n",
        "elif (variable_numerica >= 21 and variable_numerica <= 30):\n",
        "  print(\"Tu número está entre 21 y 30\")\n",
        "else:\n",
        "  print(\"Tu número no está en los rangos definidos\")"
      ],
      "execution_count": 0,
      "outputs": [
        {
          "output_type": "stream",
          "text": [
            "Tu número está entre 11 y 20\n"
          ],
          "name": "stdout"
        }
      ]
    },
    {
      "cell_type": "markdown",
      "metadata": {
        "id": "kAXbQiJAUMDK",
        "colab_type": "text"
      },
      "source": [
        "7) Mostrar con un while los números del 1 al 100."
      ]
    },
    {
      "cell_type": "code",
      "metadata": {
        "id": "xrAFsWixUdyR",
        "colab_type": "code",
        "outputId": "f923b295-9fbd-4fd4-81a4-87594109e0f9",
        "colab": {
          "base_uri": "https://localhost:8080/",
          "height": 1000
        }
      },
      "source": [
        "i=0\n",
        "while i<=100:\n",
        "  print(i)\n",
        "  i+=1"
      ],
      "execution_count": 0,
      "outputs": [
        {
          "output_type": "stream",
          "text": [
            "0\n",
            "1\n",
            "2\n",
            "3\n",
            "4\n",
            "5\n",
            "6\n",
            "7\n",
            "8\n",
            "9\n",
            "10\n",
            "11\n",
            "12\n",
            "13\n",
            "14\n",
            "15\n",
            "16\n",
            "17\n",
            "18\n",
            "19\n",
            "20\n",
            "21\n",
            "22\n",
            "23\n",
            "24\n",
            "25\n",
            "26\n",
            "27\n",
            "28\n",
            "29\n",
            "30\n",
            "31\n",
            "32\n",
            "33\n",
            "34\n",
            "35\n",
            "36\n",
            "37\n",
            "38\n",
            "39\n",
            "40\n",
            "41\n",
            "42\n",
            "43\n",
            "44\n",
            "45\n",
            "46\n",
            "47\n",
            "48\n",
            "49\n",
            "50\n",
            "51\n",
            "52\n",
            "53\n",
            "54\n",
            "55\n",
            "56\n",
            "57\n",
            "58\n",
            "59\n",
            "60\n",
            "61\n",
            "62\n",
            "63\n",
            "64\n",
            "65\n",
            "66\n",
            "67\n",
            "68\n",
            "69\n",
            "70\n",
            "71\n",
            "72\n",
            "73\n",
            "74\n",
            "75\n",
            "76\n",
            "77\n",
            "78\n",
            "79\n",
            "80\n",
            "81\n",
            "82\n",
            "83\n",
            "84\n",
            "85\n",
            "86\n",
            "87\n",
            "88\n",
            "89\n",
            "90\n",
            "91\n",
            "92\n",
            "93\n",
            "94\n",
            "95\n",
            "96\n",
            "97\n",
            "98\n",
            "99\n",
            "100\n"
          ],
          "name": "stdout"
        }
      ]
    },
    {
      "cell_type": "markdown",
      "metadata": {
        "id": "Q4QXy-XgYvFq",
        "colab_type": "text"
      },
      "source": [
        "8) Mostrar con un for los números del 1 al 100."
      ]
    },
    {
      "cell_type": "code",
      "metadata": {
        "id": "WZNqBQqGYzeE",
        "colab_type": "code",
        "outputId": "4757bcae-83d8-4205-ab6c-b30600a07b8c",
        "colab": {
          "base_uri": "https://localhost:8080/",
          "height": 1000
        }
      },
      "source": [
        "i=1\n",
        "for i in range(101):\n",
        "  print(i)"
      ],
      "execution_count": 0,
      "outputs": [
        {
          "output_type": "stream",
          "text": [
            "0\n",
            "1\n",
            "2\n",
            "3\n",
            "4\n",
            "5\n",
            "6\n",
            "7\n",
            "8\n",
            "9\n",
            "10\n",
            "11\n",
            "12\n",
            "13\n",
            "14\n",
            "15\n",
            "16\n",
            "17\n",
            "18\n",
            "19\n",
            "20\n",
            "21\n",
            "22\n",
            "23\n",
            "24\n",
            "25\n",
            "26\n",
            "27\n",
            "28\n",
            "29\n",
            "30\n",
            "31\n",
            "32\n",
            "33\n",
            "34\n",
            "35\n",
            "36\n",
            "37\n",
            "38\n",
            "39\n",
            "40\n",
            "41\n",
            "42\n",
            "43\n",
            "44\n",
            "45\n",
            "46\n",
            "47\n",
            "48\n",
            "49\n",
            "50\n",
            "51\n",
            "52\n",
            "53\n",
            "54\n",
            "55\n",
            "56\n",
            "57\n",
            "58\n",
            "59\n",
            "60\n",
            "61\n",
            "62\n",
            "63\n",
            "64\n",
            "65\n",
            "66\n",
            "67\n",
            "68\n",
            "69\n",
            "70\n",
            "71\n",
            "72\n",
            "73\n",
            "74\n",
            "75\n",
            "76\n",
            "77\n",
            "78\n",
            "79\n",
            "80\n",
            "81\n",
            "82\n",
            "83\n",
            "84\n",
            "85\n",
            "86\n",
            "87\n",
            "88\n",
            "89\n",
            "90\n",
            "91\n",
            "92\n",
            "93\n",
            "94\n",
            "95\n",
            "96\n",
            "97\n",
            "98\n",
            "99\n",
            "100\n"
          ],
          "name": "stdout"
        }
      ]
    },
    {
      "cell_type": "markdown",
      "metadata": {
        "id": "Q2yWX6LKZpPb",
        "colab_type": "text"
      },
      "source": [
        "9) Mostrar los caracteres de la cadena “Hola mundo”."
      ]
    },
    {
      "cell_type": "code",
      "metadata": {
        "id": "uNqznVjgZvb9",
        "colab_type": "code",
        "outputId": "63f1e0c0-c866-455c-9899-c3241e34134b",
        "colab": {
          "base_uri": "https://localhost:8080/",
          "height": 185
        }
      },
      "source": [
        "for caracter in \"Hola Mundo\":\n",
        "  print(caracter)"
      ],
      "execution_count": 0,
      "outputs": [
        {
          "output_type": "stream",
          "text": [
            "H\n",
            "o\n",
            "l\n",
            "a\n",
            " \n",
            "M\n",
            "u\n",
            "n\n",
            "d\n",
            "o\n"
          ],
          "name": "stdout"
        }
      ]
    },
    {
      "cell_type": "markdown",
      "metadata": {
        "id": "LKTVV02obl5B",
        "colab_type": "text"
      },
      "source": [
        "10) Mostrar los números pares entre 1 al 100."
      ]
    },
    {
      "cell_type": "code",
      "metadata": {
        "id": "712vFXXzbm9m",
        "colab_type": "code",
        "outputId": "d750e2ea-63c0-4174-f73b-5c2e47b0b21e",
        "colab": {
          "base_uri": "https://localhost:8080/",
          "height": 874
        }
      },
      "source": [
        "#Opción 1\n",
        "for numero in range(0,101,2):\n",
        "  print(numero)"
      ],
      "execution_count": 0,
      "outputs": [
        {
          "output_type": "stream",
          "text": [
            "0\n",
            "2\n",
            "4\n",
            "6\n",
            "8\n",
            "10\n",
            "12\n",
            "14\n",
            "16\n",
            "18\n",
            "20\n",
            "22\n",
            "24\n",
            "26\n",
            "28\n",
            "30\n",
            "32\n",
            "34\n",
            "36\n",
            "38\n",
            "40\n",
            "42\n",
            "44\n",
            "46\n",
            "48\n",
            "50\n",
            "52\n",
            "54\n",
            "56\n",
            "58\n",
            "60\n",
            "62\n",
            "64\n",
            "66\n",
            "68\n",
            "70\n",
            "72\n",
            "74\n",
            "76\n",
            "78\n",
            "80\n",
            "82\n",
            "84\n",
            "86\n",
            "88\n",
            "90\n",
            "92\n",
            "94\n",
            "96\n",
            "98\n",
            "100\n"
          ],
          "name": "stdout"
        }
      ]
    },
    {
      "cell_type": "code",
      "metadata": {
        "id": "7MpRhaijc2f2",
        "colab_type": "code",
        "outputId": "0bad542a-cfb4-4d59-ca21-953a66d9cbed",
        "colab": {
          "base_uri": "https://localhost:8080/",
          "height": 874
        }
      },
      "source": [
        "#Opción 2: garantiza que es par por la operación del módulo\n",
        "for numero in range(0,101):\n",
        "  if numero%2==0:\n",
        "    print(numero)"
      ],
      "execution_count": 0,
      "outputs": [
        {
          "output_type": "stream",
          "text": [
            "0\n",
            "2\n",
            "4\n",
            "6\n",
            "8\n",
            "10\n",
            "12\n",
            "14\n",
            "16\n",
            "18\n",
            "20\n",
            "22\n",
            "24\n",
            "26\n",
            "28\n",
            "30\n",
            "32\n",
            "34\n",
            "36\n",
            "38\n",
            "40\n",
            "42\n",
            "44\n",
            "46\n",
            "48\n",
            "50\n",
            "52\n",
            "54\n",
            "56\n",
            "58\n",
            "60\n",
            "62\n",
            "64\n",
            "66\n",
            "68\n",
            "70\n",
            "72\n",
            "74\n",
            "76\n",
            "78\n",
            "80\n",
            "82\n",
            "84\n",
            "86\n",
            "88\n",
            "90\n",
            "92\n",
            "94\n",
            "96\n",
            "98\n",
            "100\n"
          ],
          "name": "stdout"
        }
      ]
    },
    {
      "cell_type": "markdown",
      "metadata": {
        "id": "oi5TyNSGUh-h",
        "colab_type": "text"
      },
      "source": [
        "11) Generar un rango entre 0 y 10"
      ]
    },
    {
      "cell_type": "code",
      "metadata": {
        "id": "HUStsxMzUrg0",
        "colab_type": "code",
        "outputId": "16ff7335-f24f-4e0b-b1a1-c68bb8f13f79",
        "colab": {
          "base_uri": "https://localhost:8080/",
          "height": 34
        }
      },
      "source": [
        "# Tenga en cuenta la función range de Python 3 crea un generador, por lo que tiene que usar la función de lista para obtener una lista\n",
        "rango=list(range(0,10))\n",
        "print(rango)"
      ],
      "execution_count": 0,
      "outputs": [
        {
          "output_type": "stream",
          "text": [
            "[0, 1, 2, 3, 4, 5, 6, 7, 8, 9]\n"
          ],
          "name": "stdout"
        }
      ]
    },
    {
      "cell_type": "markdown",
      "metadata": {
        "id": "TswqoEECV6A2",
        "colab_type": "text"
      },
      "source": [
        "12) Generar un número entre 5 y 10"
      ]
    },
    {
      "cell_type": "code",
      "metadata": {
        "id": "FgTTaeOCWCgM",
        "colab_type": "code",
        "outputId": "833c7a9a-1329-47e9-afae-7b8c30e7c553",
        "colab": {
          "base_uri": "https://localhost:8080/",
          "height": 34
        }
      },
      "source": [
        "# Ver cómo generar un único número al azar\n",
        "rango2=list(range(5,11))\n",
        "print(rango2)"
      ],
      "execution_count": 0,
      "outputs": [
        {
          "output_type": "stream",
          "text": [
            "[5, 6, 7, 8, 9]\n"
          ],
          "name": "stdout"
        }
      ]
    },
    {
      "cell_type": "markdown",
      "metadata": {
        "id": "t0wYlyj5W2EO",
        "colab_type": "text"
      },
      "source": [
        "13) Generar un rango de 10 a 0."
      ]
    },
    {
      "cell_type": "code",
      "metadata": {
        "id": "QDiKlrmPW5SW",
        "colab_type": "code",
        "outputId": "81a01638-7a0a-43e7-a7e4-4268cfc0f79f",
        "colab": {
          "base_uri": "https://localhost:8080/",
          "height": 34
        }
      },
      "source": [
        "rango3=list(range(10,0,-1))\n",
        "print(rango3)"
      ],
      "execution_count": 0,
      "outputs": [
        {
          "output_type": "stream",
          "text": [
            "[10, 9, 8, 7, 6, 5, 4, 3, 2, 1]\n"
          ],
          "name": "stdout"
        }
      ]
    },
    {
      "cell_type": "markdown",
      "metadata": {
        "id": "KjACQZaXXSC-",
        "colab_type": "text"
      },
      "source": [
        "14) Generar un rango de 0 a 10 y de 15 a 20, incluidos el 10 y 20"
      ]
    },
    {
      "cell_type": "code",
      "metadata": {
        "id": "s88GEIIPXUI-",
        "colab_type": "code",
        "outputId": "5f7e949d-2d3d-4a2c-d551-148686277167",
        "colab": {
          "base_uri": "https://localhost:8080/",
          "height": 34
        }
      },
      "source": [
        "rango4=list(range(0,11))\n",
        "rango5=list(range(15,21))\n",
        "rango6=rango4+rango5\n",
        "print(rango6)\n"
      ],
      "execution_count": 0,
      "outputs": [
        {
          "output_type": "stream",
          "text": [
            "[0, 1, 2, 3, 4, 5, 6, 7, 8, 9, 10, 15, 16, 17, 18, 19, 20]\n"
          ],
          "name": "stdout"
        }
      ]
    },
    {
      "cell_type": "markdown",
      "metadata": {
        "id": "5CQfW86vYLdH",
        "colab_type": "text"
      },
      "source": [
        "Generar un rango desde 0 hasta la longitud de la cadena “Hola mundo”"
      ]
    },
    {
      "cell_type": "code",
      "metadata": {
        "id": "D7xGbtcSYN2g",
        "colab_type": "code",
        "outputId": "efa18144-de75-425a-ca5f-1f13f12a2d07",
        "colab": {
          "base_uri": "https://localhost:8080/",
          "height": 34
        }
      },
      "source": [
        "rangolong=list(range(0,len(\"Hola mundo\")))\n",
        "print(rangolong)"
      ],
      "execution_count": 0,
      "outputs": [
        {
          "output_type": "stream",
          "text": [
            "[0, 1, 2, 3, 4, 5, 6, 7, 8, 9]\n"
          ],
          "name": "stdout"
        }
      ]
    },
    {
      "cell_type": "markdown",
      "metadata": {
        "id": "pY0eKANfY8Vy",
        "colab_type": "text"
      },
      "source": [
        "16) Pide dos cadenas por teclado, muestra ambas cadenas con un espacio entre ellas y con los 2 primeros caracteres intercambiados. Por ejemplo, hola mundo pasaría a mula hondo"
      ]
    },
    {
      "cell_type": "code",
      "metadata": {
        "id": "PqKVOV_iY-nK",
        "colab_type": "code",
        "outputId": "ae34156a-5c7c-4cd4-ddc4-f7cf0fb558f4",
        "colab": {
          "base_uri": "https://localhost:8080/",
          "height": 68
        }
      },
      "source": [
        "cadena1=input(\"Inserta una palabra \")\n",
        "cadena2=input(\"Inserta otra palabra \")\n",
        "print(cadena2[:2]+cadena1[2:]+' '+cadena1[:2]+cadena2[2:])"
      ],
      "execution_count": 0,
      "outputs": [
        {
          "output_type": "stream",
          "text": [
            "Inserta una palabra Hola\n",
            "Inserta otra palabra Mundo\n",
            "Mula Hondo\n"
          ],
          "name": "stdout"
        }
      ]
    },
    {
      "cell_type": "markdown",
      "metadata": {
        "id": "47lR2tCKj4Pc",
        "colab_type": "text"
      },
      "source": [
        "17) Pide una cadena e indica si es un palíndromo o no."
      ]
    },
    {
      "cell_type": "code",
      "metadata": {
        "id": "Hoob-tXXj6N7",
        "colab_type": "code",
        "outputId": "da921f6b-2b69-44aa-e65f-fe00111d1d72",
        "colab": {
          "base_uri": "https://localhost:8080/",
          "height": 51
        }
      },
      "source": [
        "# Tener en cuenta que se diferencia mayúsculas y minúsculas\n",
        "cadena3=input(\"Inserta una palabra \")\n",
        "if cadena3[:]==cadena3[::-1]:\n",
        "  print(cadena3,\"es un palíndromo\")\n",
        "else:\n",
        "  print(cadena3,\"no es un palíndromo\")"
      ],
      "execution_count": 0,
      "outputs": [
        {
          "output_type": "stream",
          "text": [
            "Inserta una palabra reconocer\n",
            "reconocer es un palíndromo\n"
          ],
          "name": "stdout"
        }
      ]
    },
    {
      "cell_type": "markdown",
      "metadata": {
        "id": "8gN-nFQwnN8o",
        "colab_type": "text"
      },
      "source": [
        "18) Juguemos al juego de adivinar el numero, generaremos un número entre 1 y 100.\n",
        "\n",
        "Nuestro objetivo es adivinar el número. Si fallamos nos dirán si es mayor o menor que el número buscado. También poner el número de intentos requeridos."
      ]
    },
    {
      "cell_type": "code",
      "metadata": {
        "id": "Cb0cKH4nnQ53",
        "colab_type": "code",
        "outputId": "3fb70a4d-684d-412e-feac-fd1dcb688afa",
        "colab": {
          "base_uri": "https://localhost:8080/",
          "height": 85
        }
      },
      "source": [
        "import random\n",
        "#numerox=random.randrange(0,2)\n",
        "numerox=5\n",
        "i=1\n",
        "while i<4:\n",
        " \n",
        "  intento=int(input(\"¿Qué número es? \"))\n",
        "#intento2=input(\"Ingresa otro número \")\n",
        "#intento3=input(\"Última oportunidad \")\n",
        "  if  intento<numerox:\n",
        "    print(\"Más\")\n",
        "  elif intento>numerox:\n",
        "      print(\"Menos\") \n",
        "  elif intento==numerox:\n",
        "    print:(\"Correcto\")\n",
        "  i+=1\n"
      ],
      "execution_count": 0,
      "outputs": [
        {
          "output_type": "stream",
          "text": [
            "¿Qué número es? 5\n",
            "¿Qué número es? 1\n",
            "Más\n",
            "¿Qué número es? 5\n"
          ],
          "name": "stdout"
        }
      ]
    },
    {
      "cell_type": "markdown",
      "metadata": {
        "id": "jtHgCdXvEJW2",
        "colab_type": "text"
      },
      "source": [
        "#Nuevo link!!!\n",
        "## http://aprendeconalf.es/python/ejercicios/tipos-datos.html\n"
      ]
    },
    {
      "cell_type": "markdown",
      "metadata": {
        "id": "HJ6NyQOqEYIJ",
        "colab_type": "text"
      },
      "source": [
        "1. Escribir un programa que muestre por pantalla la cadena ¡Hola Mundo!.\n",
        "\n",
        "\n"
      ]
    },
    {
      "cell_type": "code",
      "metadata": {
        "id": "d6ZAu2apEmui",
        "colab_type": "code",
        "colab": {
          "base_uri": "https://localhost:8080/",
          "height": 34
        },
        "outputId": "165ab2fc-ca02-41fe-cc7a-31f12201d6c4"
      },
      "source": [
        "print(\"Hola Mundo!\")"
      ],
      "execution_count": 2,
      "outputs": [
        {
          "output_type": "stream",
          "text": [
            "Hola Mundo!\n"
          ],
          "name": "stdout"
        }
      ]
    },
    {
      "cell_type": "markdown",
      "metadata": {
        "id": "bZaTQY8MGnh3",
        "colab_type": "text"
      },
      "source": [
        "2. Escribir un programa que almacene la cadena ¡Hola Mundo! en una variable y luego muestre por pantalla el contenido de la variable."
      ]
    },
    {
      "cell_type": "code",
      "metadata": {
        "id": "QmsF7ghBGp3F",
        "colab_type": "code",
        "colab": {
          "base_uri": "https://localhost:8080/",
          "height": 34
        },
        "outputId": "6ac38c7f-4905-475d-9c75-d5a62d747921"
      },
      "source": [
        "cadena=\"Hola mundo\"\n",
        "print(cadena)"
      ],
      "execution_count": 3,
      "outputs": [
        {
          "output_type": "stream",
          "text": [
            "Hola mundo\n"
          ],
          "name": "stdout"
        }
      ]
    },
    {
      "cell_type": "markdown",
      "metadata": {
        "id": "CQX77EmmG4G9",
        "colab_type": "text"
      },
      "source": [
        "3. Escribir un programa que pregunte el nombre del usuario en la consola y después de que el usuario lo introduzca muestre por pantalla la cadena ¡Hola <nombre>!, donde <nombre> es el nombre que el usuario haya introducido."
      ]
    },
    {
      "cell_type": "code",
      "metadata": {
        "id": "MC_kwZJ0G7c_",
        "colab_type": "code",
        "colab": {
          "base_uri": "https://localhost:8080/",
          "height": 51
        },
        "outputId": "ea8c3fcb-dc44-4d75-dd54-1196204bafae"
      },
      "source": [
        "nombre=input(\"Cuál es tu nombre? \")\n",
        "print(\"Hola \",nombre)"
      ],
      "execution_count": 4,
      "outputs": [
        {
          "output_type": "stream",
          "text": [
            "Cuál es tu nombre? ASDF\n",
            "Hola  ASDF\n"
          ],
          "name": "stdout"
        }
      ]
    },
    {
      "cell_type": "markdown",
      "metadata": {
        "id": "0ptr3VVPHaNQ",
        "colab_type": "text"
      },
      "source": [
        "4. Escribir un programa que pregunte el nombre del usuario en la consola y un número entero e imprima por pantalla en líneas distintas el nombre del usuario tantas veces como el número introducido."
      ]
    },
    {
      "cell_type": "code",
      "metadata": {
        "id": "SAtMDivmHcTe",
        "colab_type": "code",
        "colab": {
          "base_uri": "https://localhost:8080/",
          "height": 136
        },
        "outputId": "b478bfee-4532-4049-962d-fdd4f532395f"
      },
      "source": [
        "nombre2=input(\"Ingresa tu nombre \")\n",
        "numero=int(input(\"Ingresa un número \"))\n",
        "for i in range(numero):\n",
        "  print(nombre2)\n",
        "  i+=1"
      ],
      "execution_count": 8,
      "outputs": [
        {
          "output_type": "stream",
          "text": [
            "Ingresa tu nombre Claudia\n",
            "Ingresa un número 5\n",
            "Claudia\n",
            "Claudia\n",
            "Claudia\n",
            "Claudia\n",
            "Claudia\n"
          ],
          "name": "stdout"
        }
      ]
    },
    {
      "cell_type": "markdown",
      "metadata": {
        "id": "AwbnkqxkJCih",
        "colab_type": "text"
      },
      "source": [
        "5. Escribir un programa que pregunte el nombre del usuario en la consola y después de que el usuario lo introduzca muestre por pantalla NOMBRE tiene n letras, donde NOMBRE es el nombre de usuario en mayúsculas y n es el número de letras que tienen el nombre\n",
        "\n"
      ]
    },
    {
      "cell_type": "code",
      "metadata": {
        "id": "MYvy3bbVJEYi",
        "colab_type": "code",
        "colab": {
          "base_uri": "https://localhost:8080/",
          "height": 51
        },
        "outputId": "ff9e9258-55b9-4a47-9ba7-17a4bf9ced88"
      },
      "source": [
        "nombre3=input(\"Ingresa tu nombre \")\n",
        "letras=len(nombre3)\n",
        "print((nombre3.upper()),\"Tiene\",letras,\"letras\")"
      ],
      "execution_count": 12,
      "outputs": [
        {
          "output_type": "stream",
          "text": [
            "Ingresa tu nombre claudia\n",
            "CLAUDIA Tiene 7 letras\n"
          ],
          "name": "stdout"
        }
      ]
    },
    {
      "cell_type": "markdown",
      "metadata": {
        "id": "srcmZh0XfJN1",
        "colab_type": "text"
      },
      "source": [
        "6. Escribir un programa que realice la siguiente operación aritmética ((3+2)/(2*5))^2."
      ]
    },
    {
      "cell_type": "code",
      "metadata": {
        "id": "Tn9OHY8xfeQ_",
        "colab_type": "code",
        "colab": {
          "base_uri": "https://localhost:8080/",
          "height": 34
        },
        "outputId": "a7125a8c-e1a0-4ca0-eb7e-c07c5dfcb922"
      },
      "source": [
        "import math\n",
        "operacion=((3+2)/(2*5))**2\n",
        "print(operacion)"
      ],
      "execution_count": 14,
      "outputs": [
        {
          "output_type": "stream",
          "text": [
            "0.25\n"
          ],
          "name": "stdout"
        }
      ]
    },
    {
      "cell_type": "markdown",
      "metadata": {
        "id": "Yd-VrgV7gJQc",
        "colab_type": "text"
      },
      "source": [
        "7. Escribir un programa que pregunte al usuario por el número de horas trabajadas y el coste por hora. Después debe mostrar por pantalla la paga que le corresponde."
      ]
    },
    {
      "cell_type": "code",
      "metadata": {
        "id": "k9dH5raCgRAu",
        "colab_type": "code",
        "colab": {
          "base_uri": "https://localhost:8080/",
          "height": 68
        },
        "outputId": "1aa12dd1-d962-4da1-b8b8-bd357fac9f92"
      },
      "source": [
        "horas_trabajadas=float(input(\"¿Cuántas horas trabajaste? \"))\n",
        "precio_hora=float(input(\"¿Cuánto ganas por hora? \"))\n",
        "salario=horas_trabajadas*precio_hora\n",
        "print(\"Tu salario es \",salario,\"pesos\")"
      ],
      "execution_count": 21,
      "outputs": [
        {
          "output_type": "stream",
          "text": [
            "¿Cuántas horas trabajaste? 4\n",
            "¿Cuánto ganas por hora? 5\n",
            "Tu salario es  20.0 pesos\n"
          ],
          "name": "stdout"
        }
      ]
    },
    {
      "cell_type": "markdown",
      "metadata": {
        "id": "Ozh99-5Xh77U",
        "colab_type": "text"
      },
      "source": [
        "8. Escribir un programa que lea un entero positivo, 𝑛, introducido por el usuario y después muestre en pantalla la suma de todos los enteros desde 1 hasta 𝑛. La suma de los 𝑛 primeros enteros positivos puede ser calculada de la siguiente forma:\n",
        "\n",
        "suma=𝑛(𝑛+1)/2\n",
        "\n"
      ]
    }
  ]
}