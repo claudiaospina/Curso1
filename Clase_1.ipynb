{
  "nbformat": 4,
  "nbformat_minor": 0,
  "metadata": {
    "colab": {
      "name": "Clase 1.ipynb",
      "provenance": [],
      "authorship_tag": "ABX9TyMyCHIGAbuNgFOElqNZM2q9",
      "include_colab_link": true
    },
    "kernelspec": {
      "name": "python3",
      "display_name": "Python 3"
    }
  },
  "cells": [
    {
      "cell_type": "markdown",
      "metadata": {
        "id": "view-in-github",
        "colab_type": "text"
      },
      "source": [
        "<a href=\"https://colab.research.google.com/github/claudiaospina/Curso1/blob/master/Clase_1.ipynb\" target=\"_parent\"><img src=\"https://colab.research.google.com/assets/colab-badge.svg\" alt=\"Open In Colab\"/></a>"
      ]
    },
    {
      "cell_type": "code",
      "metadata": {
        "id": "89XYAYUJEmUn",
        "colab_type": "code",
        "colab": {
          "base_uri": "https://localhost:8080/",
          "height": 34
        },
        "outputId": "6beb77bc-3ee7-4349-d0ab-635c1f1bafdf"
      },
      "source": [
        "import math\n",
        "x=math.cos(2*math.pi)\n",
        "x"
      ],
      "execution_count": 4,
      "outputs": [
        {
          "output_type": "execute_result",
          "data": {
            "text/plain": [
              "1.0"
            ]
          },
          "metadata": {
            "tags": []
          },
          "execution_count": 4
        }
      ]
    },
    {
      "cell_type": "code",
      "metadata": {
        "id": "Jau72i3OTcbH",
        "colab_type": "code",
        "colab": {
          "base_uri": "https://localhost:8080/",
          "height": 34
        },
        "outputId": "1518963e-0fc3-48e1-e722-2fc8b0c125d7"
      },
      "source": [
        "from math import cos, pi\n",
        "x=cos(2*pi)\n",
        "x"
      ],
      "execution_count": 5,
      "outputs": [
        {
          "output_type": "execute_result",
          "data": {
            "text/plain": [
              "1.0"
            ]
          },
          "metadata": {
            "tags": []
          },
          "execution_count": 5
        }
      ]
    },
    {
      "cell_type": "code",
      "metadata": {
        "id": "qAxLmCySUoEc",
        "colab_type": "code",
        "colab": {
          "base_uri": "https://localhost:8080/",
          "height": 34
        },
        "outputId": "300ce6ca-86a6-4fed-86d3-c914da21d474"
      },
      "source": [
        "import numpy as np\n",
        "from math import pi as number_pi\n",
        "x=np.rad2deg(number_pi)\n",
        "x"
      ],
      "execution_count": 6,
      "outputs": [
        {
          "output_type": "execute_result",
          "data": {
            "text/plain": [
              "180.0"
            ]
          },
          "metadata": {
            "tags": []
          },
          "execution_count": 6
        }
      ]
    },
    {
      "cell_type": "code",
      "metadata": {
        "id": "gmSKPe3kVAtb",
        "colab_type": "code",
        "colab": {
          "base_uri": "https://localhost:8080/",
          "height": 187
        },
        "outputId": "b478bc82-1910-42e3-814f-d116e9a2a1ed"
      },
      "source": [
        "np?\n",
        "help(np)"
      ],
      "execution_count": 9,
      "outputs": [
        {
          "output_type": "stream",
          "text": [
            "IOPub data rate exceeded.\n",
            "The notebook server will temporarily stop sending output\n",
            "to the client in order to avoid crashing it.\n",
            "To change this limit, set the config variable\n",
            "`--NotebookApp.iopub_data_rate_limit`.\n",
            "\n",
            "Current values:\n",
            "NotebookApp.iopub_data_rate_limit=1000000.0 (bytes/sec)\n",
            "NotebookApp.rate_limit_window=3.0 (secs)\n",
            "\n"
          ],
          "name": "stderr"
        }
      ]
    },
    {
      "cell_type": "code",
      "metadata": {
        "id": "aNtRmlQjVwzS",
        "colab_type": "code",
        "colab": {
          "base_uri": "https://localhost:8080/",
          "height": 34
        },
        "outputId": "e6bf0fd0-e65b-475a-8f62-623dc87e1164"
      },
      "source": [
        "math.log(10)"
      ],
      "execution_count": 10,
      "outputs": [
        {
          "output_type": "execute_result",
          "data": {
            "text/plain": [
              "2.302585092994046"
            ]
          },
          "metadata": {
            "tags": []
          },
          "execution_count": 10
        }
      ]
    },
    {
      "cell_type": "code",
      "metadata": {
        "id": "xwzi41TqWNQ5",
        "colab_type": "code",
        "colab": {
          "base_uri": "https://localhost:8080/",
          "height": 938
        },
        "outputId": "a5cfaf49-248e-4290-c966-4d46d8dbb558"
      },
      "source": [
        "list=[]\n",
        "for i in range(101):\n",
        "  if i%2==0:\n",
        "    list.append(i)\n",
        "    print(\"Valor: \",i)\n",
        "  else:\n",
        "    continue\n",
        "print(list,\"\\n\",\"La longitud de la lista es \",len(list))"
      ],
      "execution_count": 20,
      "outputs": [
        {
          "output_type": "stream",
          "text": [
            "Valor:  0\n",
            "Valor:  2\n",
            "Valor:  4\n",
            "Valor:  6\n",
            "Valor:  8\n",
            "Valor:  10\n",
            "Valor:  12\n",
            "Valor:  14\n",
            "Valor:  16\n",
            "Valor:  18\n",
            "Valor:  20\n",
            "Valor:  22\n",
            "Valor:  24\n",
            "Valor:  26\n",
            "Valor:  28\n",
            "Valor:  30\n",
            "Valor:  32\n",
            "Valor:  34\n",
            "Valor:  36\n",
            "Valor:  38\n",
            "Valor:  40\n",
            "Valor:  42\n",
            "Valor:  44\n",
            "Valor:  46\n",
            "Valor:  48\n",
            "Valor:  50\n",
            "Valor:  52\n",
            "Valor:  54\n",
            "Valor:  56\n",
            "Valor:  58\n",
            "Valor:  60\n",
            "Valor:  62\n",
            "Valor:  64\n",
            "Valor:  66\n",
            "Valor:  68\n",
            "Valor:  70\n",
            "Valor:  72\n",
            "Valor:  74\n",
            "Valor:  76\n",
            "Valor:  78\n",
            "Valor:  80\n",
            "Valor:  82\n",
            "Valor:  84\n",
            "Valor:  86\n",
            "Valor:  88\n",
            "Valor:  90\n",
            "Valor:  92\n",
            "Valor:  94\n",
            "Valor:  96\n",
            "Valor:  98\n",
            "Valor:  100\n",
            "[0, 2, 4, 6, 8, 10, 12, 14, 16, 18, 20, 22, 24, 26, 28, 30, 32, 34, 36, 38, 40, 42, 44, 46, 48, 50, 52, 54, 56, 58, 60, 62, 64, 66, 68, 70, 72, 74, 76, 78, 80, 82, 84, 86, 88, 90, 92, 94, 96, 98, 100] \n",
            " La longitud de la lista es  51\n"
          ],
          "name": "stdout"
        }
      ]
    },
    {
      "cell_type": "markdown",
      "metadata": {
        "id": "qbCO9aR3UnvU",
        "colab_type": "text"
      },
      "source": [
        ""
      ]
    }
  ]
}