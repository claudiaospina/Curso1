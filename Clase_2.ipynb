{
  "nbformat": 4,
  "nbformat_minor": 0,
  "metadata": {
    "colab": {
      "name": "Clase_2.ipynb",
      "provenance": [],
      "collapsed_sections": [],
      "authorship_tag": "ABX9TyOcaZQcqmaPD3KNss0u00q4",
      "include_colab_link": true
    },
    "kernelspec": {
      "name": "python3",
      "display_name": "Python 3"
    }
  },
  "cells": [
    {
      "cell_type": "markdown",
      "metadata": {
        "id": "view-in-github",
        "colab_type": "text"
      },
      "source": [
        "<a href=\"https://colab.research.google.com/github/claudiaospina/Curso1/blob/master/Clase_2.ipynb\" target=\"_parent\"><img src=\"https://colab.research.google.com/assets/colab-badge.svg\" alt=\"Open In Colab\"/></a>"
      ]
    },
    {
      "cell_type": "markdown",
      "metadata": {
        "id": "B17mhGfnRasp",
        "colab_type": "text"
      },
      "source": [
        "### Palíndromos"
      ]
    },
    {
      "cell_type": "code",
      "metadata": {
        "id": "MuN3ePu4Pnw_",
        "colab_type": "code",
        "colab": {}
      },
      "source": [
        "def palindromo(palabra):\n",
        "  if palabra == palabra[::-1]:\n",
        "    return \"Es palíndromo\"\n",
        "  else:\n",
        "    return \"No es palíndromo\""
      ],
      "execution_count": 19,
      "outputs": []
    },
    {
      "cell_type": "code",
      "metadata": {
        "id": "CmqY9R1GSA8S",
        "colab_type": "code",
        "colab": {
          "base_uri": "https://localhost:8080/",
          "height": 35
        },
        "outputId": "c56e559f-698a-4c6a-c4cc-a11cb3120850"
      },
      "source": [
        "palindromo(\"reconocer\")"
      ],
      "execution_count": 21,
      "outputs": [
        {
          "output_type": "execute_result",
          "data": {
            "application/vnd.google.colaboratory.intrinsic+json": {
              "type": "string"
            },
            "text/plain": [
              "'Es palíndromo'"
            ]
          },
          "metadata": {
            "tags": []
          },
          "execution_count": 21
        }
      ]
    },
    {
      "cell_type": "markdown",
      "metadata": {
        "id": "wIO7E3e0Td-g",
        "colab_type": "text"
      },
      "source": [
        "### Revisar las minúsculas para que funcione .lower"
      ]
    },
    {
      "cell_type": "code",
      "metadata": {
        "id": "QzKc6Nu0SJyj",
        "colab_type": "code",
        "colab": {
          "base_uri": "https://localhost:8080/",
          "height": 35
        },
        "outputId": "df6f4185-81bf-4d3f-848a-90953685aa92"
      },
      "source": [
        "palindromo(\"Reconocer\")"
      ],
      "execution_count": 22,
      "outputs": [
        {
          "output_type": "execute_result",
          "data": {
            "application/vnd.google.colaboratory.intrinsic+json": {
              "type": "string"
            },
            "text/plain": [
              "'No es palíndromo'"
            ]
          },
          "metadata": {
            "tags": []
          },
          "execution_count": 22
        }
      ]
    },
    {
      "cell_type": "code",
      "metadata": {
        "id": "AspiAs8cTuGl",
        "colab_type": "code",
        "colab": {}
      },
      "source": [
        ""
      ],
      "execution_count": null,
      "outputs": []
    }
  ]
}